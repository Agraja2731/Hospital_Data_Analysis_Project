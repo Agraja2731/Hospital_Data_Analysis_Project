{
 "cells": [
  {
   "cell_type": "code",
   "execution_count": 1,
   "id": "5a7b0e58-ae8f-4854-a2df-b0d17eefd29c",
   "metadata": {},
   "outputs": [],
   "source": [
    "import sqlite3\n",
    "import pandas as pd\n",
    "import matplotlib.pyplot as plt\n",
    "import seaborn as sns"
   ]
  },
  {
   "cell_type": "code",
   "execution_count": 2,
   "id": "f4d25adc-debe-4c00-9961-3c35e3d9a441",
   "metadata": {},
   "outputs": [],
   "source": [
    "conn = sqlite3.connect(\"hospital_analysis.db\")"
   ]
  },
  {
   "cell_type": "code",
   "execution_count": 3,
   "id": "af6598f6-64a5-43ec-b364-2f9b28db0fe4",
   "metadata": {},
   "outputs": [
    {
     "name": "stdout",
     "output_type": "stream",
     "text": [
      "Tables in database: Empty DataFrame\n",
      "Columns: [name]\n",
      "Index: []\n"
     ]
    }
   ],
   "source": [
    "tables = pd.read_sql_query(\"SELECT name FROM sqlite_master WHERE type='table';\", conn)\n",
    "print(\"Tables in database:\", tables)"
   ]
  },
  {
   "cell_type": "code",
   "execution_count": 5,
   "id": "25196921-3d43-400c-8940-bb6785248ea8",
   "metadata": {},
   "outputs": [
    {
     "name": "stdout",
     "output_type": "stream",
     "text": [
      "Empty DataFrame\n",
      "Columns: [name]\n",
      "Index: []\n"
     ]
    }
   ],
   "source": [
    "tables = pd.read_sql_query(\"SELECT name FROM sqlite_master WHERE type='table';\", conn)\n",
    "print(tables)\n"
   ]
  },
  {
   "cell_type": "code",
   "execution_count": 6,
   "id": "4edbcece-a1a2-41bb-af9e-b23301241988",
   "metadata": {},
   "outputs": [
    {
     "data": {
      "text/plain": [
       "100"
      ]
     },
     "execution_count": 6,
     "metadata": {},
     "output_type": "execute_result"
    }
   ],
   "source": [
    "import sqlite3\n",
    "import pandas as pd\n",
    "df = pd.read_csv(\"cleaned_hospital_data.csv\")\n",
    "\n",
    "conn = sqlite3.connect(\"hospital_analysis.db\")\n",
    "\n",
    "df.to_sql(\"hospital_data\", conn, index=False, if_exists=\"replace\")\n"
   ]
  },
  {
   "cell_type": "code",
   "execution_count": 7,
   "id": "9441bf9c-3b1c-44cc-8d89-bcf3217b839f",
   "metadata": {},
   "outputs": [
    {
     "name": "stdout",
     "output_type": "stream",
     "text": [
      "Tables in your database:             name\n",
      "0  hospital_data\n"
     ]
    }
   ],
   "source": [
    "tables = pd.read_sql_query(\"SELECT name FROM sqlite_master WHERE type='table';\", conn)\n",
    "print(\"Tables in your database:\", tables)\n"
   ]
  },
  {
   "cell_type": "code",
   "execution_count": 8,
   "id": "07ddfa3e-107c-41dd-ad32-e00f4c5a6c15",
   "metadata": {},
   "outputs": [
    {
     "data": {
      "text/html": [
       "<div>\n",
       "<style scoped>\n",
       "    .dataframe tbody tr th:only-of-type {\n",
       "        vertical-align: middle;\n",
       "    }\n",
       "\n",
       "    .dataframe tbody tr th {\n",
       "        vertical-align: top;\n",
       "    }\n",
       "\n",
       "    .dataframe thead th {\n",
       "        text-align: right;\n",
       "    }\n",
       "</style>\n",
       "<table border=\"1\" class=\"dataframe\">\n",
       "  <thead>\n",
       "    <tr style=\"text-align: right;\">\n",
       "      <th></th>\n",
       "      <th>Patient ID</th>\n",
       "      <th>Doctor</th>\n",
       "      <th>Department</th>\n",
       "      <th>Treatment Start Date</th>\n",
       "      <th>Discharge Date</th>\n",
       "      <th>Treatment Cost</th>\n",
       "      <th>Recovery</th>\n",
       "      <th>Stay Duration (Days)</th>\n",
       "    </tr>\n",
       "  </thead>\n",
       "  <tbody>\n",
       "    <tr>\n",
       "      <th>0</th>\n",
       "      <td>P1000</td>\n",
       "      <td>Dr. Banerjee</td>\n",
       "      <td>Cardiology</td>\n",
       "      <td>2023-04-13</td>\n",
       "      <td>2023-04-18</td>\n",
       "      <td>40743</td>\n",
       "      <td>In Progress</td>\n",
       "      <td>5</td>\n",
       "    </tr>\n",
       "    <tr>\n",
       "      <th>1</th>\n",
       "      <td>P1001</td>\n",
       "      <td>Dr. Kapoor</td>\n",
       "      <td>General Medicine</td>\n",
       "      <td>2023-06-29</td>\n",
       "      <td>2023-07-08</td>\n",
       "      <td>11102</td>\n",
       "      <td>In Progress</td>\n",
       "      <td>9</td>\n",
       "    </tr>\n",
       "    <tr>\n",
       "      <th>2</th>\n",
       "      <td>P1002</td>\n",
       "      <td>Dr. Sharma</td>\n",
       "      <td>Neurology</td>\n",
       "      <td>2023-04-03</td>\n",
       "      <td>2023-04-12</td>\n",
       "      <td>24778</td>\n",
       "      <td>Recovered</td>\n",
       "      <td>9</td>\n",
       "    </tr>\n",
       "    <tr>\n",
       "      <th>3</th>\n",
       "      <td>P1003</td>\n",
       "      <td>Dr. Banerjee</td>\n",
       "      <td>Pediatrics</td>\n",
       "      <td>2023-01-15</td>\n",
       "      <td>2023-01-17</td>\n",
       "      <td>31641</td>\n",
       "      <td>Not Recovered</td>\n",
       "      <td>2</td>\n",
       "    </tr>\n",
       "    <tr>\n",
       "      <th>4</th>\n",
       "      <td>P1004</td>\n",
       "      <td>Dr. Sharma</td>\n",
       "      <td>General Medicine</td>\n",
       "      <td>2023-04-17</td>\n",
       "      <td>2025-06-21</td>\n",
       "      <td>39584</td>\n",
       "      <td>Recovered</td>\n",
       "      <td>796</td>\n",
       "    </tr>\n",
       "  </tbody>\n",
       "</table>\n",
       "</div>"
      ],
      "text/plain": [
       "  Patient ID        Doctor        Department Treatment Start Date  \\\n",
       "0      P1000  Dr. Banerjee        Cardiology           2023-04-13   \n",
       "1      P1001    Dr. Kapoor  General Medicine           2023-06-29   \n",
       "2      P1002    Dr. Sharma         Neurology           2023-04-03   \n",
       "3      P1003  Dr. Banerjee        Pediatrics           2023-01-15   \n",
       "4      P1004    Dr. Sharma  General Medicine           2023-04-17   \n",
       "\n",
       "  Discharge Date  Treatment Cost       Recovery  Stay Duration (Days)  \n",
       "0     2023-04-18           40743    In Progress                     5  \n",
       "1     2023-07-08           11102    In Progress                     9  \n",
       "2     2023-04-12           24778      Recovered                     9  \n",
       "3     2023-01-17           31641  Not Recovered                     2  \n",
       "4     2025-06-21           39584      Recovered                   796  "
      ]
     },
     "execution_count": 8,
     "metadata": {},
     "output_type": "execute_result"
    }
   ],
   "source": [
    "df = pd.read_sql_query(\"SELECT * FROM hospital_data;\", conn)\n",
    "df.head()\n"
   ]
  },
  {
   "cell_type": "code",
   "execution_count": 10,
   "id": "77584762-21b8-4e0b-9879-de47a160e5d6",
   "metadata": {},
   "outputs": [
    {
     "name": "stdout",
     "output_type": "stream",
     "text": [
      "Index(['Patient ID', 'Doctor', 'Department', 'Treatment Start Date',\n",
      "       'Discharge Date', 'Treatment Cost', 'Recovery', 'Stay Duration (Days)'],\n",
      "      dtype='object')\n"
     ]
    }
   ],
   "source": [
    "print(df.columns)\n"
   ]
  },
  {
   "cell_type": "code",
   "execution_count": 12,
   "id": "c6c3e582-025d-4107-9606-24c2143745ce",
   "metadata": {},
   "outputs": [],
   "source": [
    "avg_cost_per_doctor = pd.read_sql_query(\"\"\"\n",
    "    SELECT Doctor, AVG([Treatment Cost]) AS Avg_Treatment_Cost\n",
    "    FROM hospital_data\n",
    "    GROUP BY Doctor;\n",
    "\"\"\", conn)\n"
   ]
  },
  {
   "cell_type": "code",
   "execution_count": 13,
   "id": "8fad0412-3746-4eed-89ce-5772511ed9db",
   "metadata": {},
   "outputs": [],
   "source": [
    "busiest_departments = pd.read_sql_query(\"\"\"\n",
    "    SELECT Department, COUNT(*) AS Patient_Count\n",
    "    FROM hospital_data\n",
    "    GROUP BY Department\n",
    "    ORDER BY Patient_Count DESC;\n",
    "\"\"\", conn)\n"
   ]
  },
  {
   "cell_type": "code",
   "execution_count": 19,
   "id": "de53c7cb-24bd-448e-9656-49837b235e86",
   "metadata": {},
   "outputs": [
    {
     "data": {
      "text/plain": [
       "<Axes: xlabel='Recovery'>"
      ]
     },
     "execution_count": 19,
     "metadata": {},
     "output_type": "execute_result"
    },
    {
     "data": {
      "image/png": "[encoded data removed]",
      "text/plain": [
       "<Figure size 640x480 with 1 Axes>"
      ]
     },
     "metadata": {},
     "output_type": "display_data"
    }
   ],
   "source": [
    "df['Discharge Date'] = pd.to_datetime(df['Discharge Date'], errors='coerce')\n",
    "df['Treatment Start Date'] = pd.to_datetime(df['Treatment Start Date'], errors='coerce')\n",
    "df['Discharge Date'] = df['Discharge Date'].ffill()\n",
    "\n",
    "df['Recovery'].value_counts().plot(kind='bar')\n"
   ]
  },
  {
   "cell_type": "code",
   "execution_count": 16,
   "id": "c4b47da8-6290-4f15-85cc-54cc493dd0a1",
   "metadata": {},
   "outputs": [
    {
     "name": "stdout",
     "output_type": "stream",
     "text": [
      "\n",
      "Average Treatment Cost per Doctor:\n",
      "         Doctor  Avg_Treatment_Cost\n",
      "0  Dr. Banerjee        23396.750000\n",
      "1    Dr. Kapoor        28015.727273\n",
      "2     Dr. Mehta        24723.066667\n",
      "3     Dr. Reddy        27767.117647\n",
      "4    Dr. Sharma        22959.181818\n",
      "\n",
      "Busiest Departments:\n",
      "         Department  Patient_Count\n",
      "0  General Medicine             29\n",
      "1        Cardiology             23\n",
      "2        Pediatrics             16\n",
      "3       Orthopedics             16\n",
      "4         Neurology             16\n"
     ]
    }
   ],
   "source": [
    "avg_cost_per_doctor = pd.read_sql_query(\"\"\"\n",
    "    SELECT Doctor, AVG([Treatment Cost]) AS Avg_Treatment_Cost\n",
    "    FROM hospital_data\n",
    "    GROUP BY Doctor;\n",
    "\"\"\", conn)\n",
    "print(\"\\nAverage Treatment Cost per Doctor:\")\n",
    "print(avg_cost_per_doctor)\n",
    "\n",
    "busiest_departments = pd.read_sql_query(\"\"\"\n",
    "    SELECT Department, COUNT(*) AS Patient_Count\n",
    "    FROM hospital_data\n",
    "    GROUP BY Department\n",
    "    ORDER BY Patient_Count DESC;\n",
    "\"\"\", conn)\n",
    "print(\"\\nBusiest Departments:\")\n",
    "print(busiest_departments)\n"
   ]
  },
  {
   "cell_type": "code",
   "execution_count": 18,
   "id": "272f562b-d86a-441b-818d-bbcf42803a16",
   "metadata": {},
   "outputs": [],
   "source": [
    "# 📌 Step 5: Data Cleaning (Pandas)df['Discharge Date'] = pd.to_datetime(df['Discharge Date'], errors='coerce')\n",
    "df['Discharge Date'] = df['Discharge Date'].ffill()\n",
    "df['Treatment Start Date'] = pd.to_datetime(df['Treatment Start Date'], errors='coerce')\n"
   ]
  },
  {
   "cell_type": "code",
   "execution_count": 20,
   "id": "52c249e4-d9b6-478e-918a-aa770a278f91",
   "metadata": {},
   "outputs": [
    {
     "data": {
      "image/png": "[encoded data removed]",
      "text/plain": [
       "<Figure size 600x400 with 1 Axes>"
      ]
     },
     "metadata": {},
     "output_type": "display_data"
    }
   ],
   "source": [
    "plt.figure(figsize=(6, 4))\n",
    "df['Recovery'].value_counts().plot(kind='bar', color='skyblue')\n",
    "plt.title(\"Patient Recovery Status Distribution\")\n",
    "plt.xlabel(\"Recovery Status\")\n",
    "plt.ylabel(\"Number of Patients\")\n",
    "plt.xticks(rotation=0)\n",
    "plt.tight_layout()\n",
    "plt.show()\n"
   ]
  },
  {
   "cell_type": "code",
   "execution_count": 21,
   "id": "9e86250c-f412-404f-a6af-a21176863469",
   "metadata": {},
   "outputs": [
    {
     "data": {
      "image/png": "[encoded data removed]",
      "text/plain": [
       "<Figure size 800x500 with 1 Axes>"
      ]
     },
     "metadata": {},
     "output_type": "display_data"
    }
   ],
   "source": [
    "plt.figure(figsize=(8, 5))\n",
    "sns.histplot(df['Treatment Cost'], bins=20, kde=True, color='green', edgecolor='black')\n",
    "plt.title(\"Treatment Cost Distribution\")\n",
    "plt.xlabel(\"Treatment Cost\")\n",
    "plt.ylabel(\"Frequency\")\n",
    "plt.tight_layout()\n",
    "plt.show()\n"
   ]
  },
  {
   "cell_type": "code",
   "execution_count": 22,
   "id": "73e0f7d0-4ef7-4dae-becd-efee9213dfd7",
   "metadata": {},
   "outputs": [
    {
     "name": "stdout",
     "output_type": "stream",
     "text": [
      "✅ Cleaned dataset saved as cleaned_hospital_data.csv\n"
     ]
    }
   ],
   "source": [
    "df.to_csv(\"cleaned_hospital_data.csv\", index=False)\n",
    "print(\"✅ Cleaned dataset saved as cleaned_hospital_data.csv\")\n"
   ]
  },
  {
   "cell_type": "code",
   "execution_count": 23,
   "id": "a676a4bc-a5e9-4142-ab19-f6862d11c62b",
   "metadata": {},
   "outputs": [
    {
     "name": "stdout",
     "output_type": "stream",
     "text": [
      "\n",
      "Dataset Summary:\n",
      "      Treatment Start Date       Discharge Date  Treatment Cost  \\\n",
      "count                  100                  100      100.000000   \n",
      "mean   2023-03-26 17:31:12  2023-06-02 21:36:00    25258.570000   \n",
      "min    2023-01-02 00:00:00  2023-01-03 00:00:00     5569.000000   \n",
      "25%    2023-02-17 18:00:00  2023-02-22 00:00:00    13614.750000   \n",
      "50%    2023-03-29 00:00:00  2023-04-02 12:00:00    24917.000000   \n",
      "75%    2023-05-10 06:00:00  2023-05-20 06:00:00    36090.250000   \n",
      "max    2023-06-29 00:00:00  2025-06-21 00:00:00    47675.000000   \n",
      "std                    NaN                  NaN    12454.337201   \n",
      "\n",
      "       Stay Duration (Days)  \n",
      "count            100.000000  \n",
      "mean              68.170000  \n",
      "min                1.000000  \n",
      "25%                3.000000  \n",
      "50%                5.000000  \n",
      "75%                8.000000  \n",
      "max              848.000000  \n",
      "std              216.175203  \n",
      "\n",
      "Column Info:\n",
      "<class 'pandas.core.frame.DataFrame'>\n",
      "RangeIndex: 100 entries, 0 to 99\n",
      "Data columns (total 8 columns):\n",
      " #   Column                Non-Null Count  Dtype         \n",
      "---  ------                --------------  -----         \n",
      " 0   Patient ID            100 non-null    object        \n",
      " 1   Doctor                100 non-null    object        \n",
      " 2   Department            100 non-null    object        \n",
      " 3   Treatment Start Date  100 non-null    datetime64[ns]\n",
      " 4   Discharge Date        100 non-null    datetime64[ns]\n",
      " 5   Treatment Cost        100 non-null    int64         \n",
      " 6   Recovery              100 non-null    object        \n",
      " 7   Stay Duration (Days)  100 non-null    int64         \n",
      "dtypes: datetime64[ns](2), int64(2), object(4)\n",
      "memory usage: 6.4+ KB\n",
      "None\n"
     ]
    }
   ],
   "source": [
    "print(\"\\nDataset Summary:\")\n",
    "print(df.describe())\n",
    "\n",
    "print(\"\\nColumn Info:\")\n",
    "print(df.info())\n"
   ]
  },
  {
   "cell_type": "markdown",
   "id": "d54362a8-9601-4b31-9218-07fa0eef1040",
   "metadata": {},
   "source": [
    "📌 Title: Hospital Patient & Treatment Analysis Project\n",
    "\n",
    "🔹 Project Objective\n",
    "This project analyzes hospital patient treatment records to help improve healthcare services using real data. The goal is to extract meaningful insights using SQL, process and clean data using Python (Pandas), and present findings through interactive dashboards in Power BI.\n",
    "\n",
    "🔹 Tools Used\n",
    "SQL (SQLite) – to query patient records\n",
    "\n",
    "Python (Pandas, Matplotlib, Seaborn) – for cleaning and analysis\n",
    "\n",
    "Power BI – to build dashboards\n",
    "\n",
    "🔹 Dataset Description\n",
    "The dataset contains hospital records with the following fields:\n",
    "\n",
    "Patient ID\n",
    "\n",
    "Doctor\n",
    "\n",
    "Department\n",
    "\n",
    "Treatment Start Date\n",
    "\n",
    "Discharge Date\n",
    "\n",
    "Treatment Cost\n",
    "\n",
    "Recovery Status\n",
    "\n",
    "Stay Duration (Days)\n",
    "\n",
    "🔹 Project Tasks and Implementation\n",
    "✅ SQL Tasks:\n",
    "Average Treatment Cost per Doctor\n",
    "Used SQL aggregation to calculate average cost grouped by each doctor.\n",
    "\n",
    "Busiest Departments\n",
    "Used SQL COUNT(*) and GROUP BY to find departments with the highest patient volume.\n",
    "\n",
    "✅ Pandas (Python) Tasks:\n",
    "Data Cleaning:\n",
    "Converted date columns to datetime format and filled missing discharge dates using forward fill.\n",
    "\n",
    "Recovery Trend Analysis:\n",
    "Visualized recovery status distribution using a bar plot.\n",
    "\n",
    "Cost Analysis:\n",
    "Used a histogram to show treatment cost distribution.\n",
    "\n",
    "✅ Power BI Dashboard:\n",
    "Created a dashboard with:\n",
    "\n",
    "Patient recovery trends\n",
    "\n",
    "Doctor performance (cost-based)\n",
    "\n",
    "Department-wise statistics\n",
    "\n",
    "Visual filters and slicers"
   ]
  }
 ],
 "metadata": {
  "kernelspec": {
   "display_name": "Python 3 (ipykernel)",
   "language": "python",
   "name": "python3"
  },
  "language_info": {
   "codemirror_mode": {
    "name": "ipython",
    "version": 3
   },
   "file_extension": ".py",
   "mimetype": "text/x-python",
   "name": "python",
   "nbconvert_exporter": "python",
   "pygments_lexer": "ipython3",
   "version": "3.11.13"
  }
 },
 "nbformat": 4,
 "nbformat_minor": 5
}
